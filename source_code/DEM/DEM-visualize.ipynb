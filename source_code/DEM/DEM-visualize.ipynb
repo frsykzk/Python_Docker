{
 "cells": [
  {
   "cell_type": "code",
   "execution_count": null,
   "metadata": {},
   "outputs": [],
   "source": [
    "import pandas as pd\n",
    "from matplotlib import pyplot as plt\n",
    "import numpy as np"
   ]
  },
  {
   "cell_type": "code",
   "execution_count": null,
   "metadata": {},
   "outputs": [],
   "source": [
    "pci_dist = 10\n",
    "holesize = 50"
   ]
  },
  {
   "cell_type": "code",
   "execution_count": null,
   "metadata": {
    "tags": []
   },
   "outputs": [],
   "source": [
    "path = \"/root/opt/sim_result/p-{}mm/{}mm/output00333.csv\".format(pci_dist, holesize)\n",
    "\n",
    "hole = holesize/1000\n",
    "bottom = 0.350"
   ]
  },
  {
   "cell_type": "code",
   "execution_count": null,
   "metadata": {},
   "outputs": [],
   "source": [
    "df = pd.read_csv(path, usecols=[\"Pos.x\",\" Pos.y\",\" Pos.z\",\" velocity\"])"
   ]
  },
  {
   "cell_type": "markdown",
   "metadata": {},
   "source": [
    "bottomは容器の底までの高さ"
   ]
  },
  {
   "cell_type": "code",
   "execution_count": null,
   "metadata": {},
   "outputs": [
    {
     "name": "stdout",
     "output_type": "stream",
     "text": [
      "         Pos.x     Pos.y     Pos.z   velocity\n",
      "0     0.076641  0.356561  0.075072   0.000396\n",
      "1     0.084912  0.359865  0.155740   0.000006\n",
      "2     0.097183  0.359912  0.146814   0.000001\n",
      "3     0.091917  0.359924  0.137198   0.000002\n",
      "4     0.139450  0.359909  0.198960   0.000000\n",
      "...        ...       ...       ...        ...\n",
      "7595  0.261849  0.359975  0.197460   0.000000\n",
      "7596  0.252790  0.359914  0.203192   0.000000\n",
      "7597  0.291931  0.042581  0.225573   0.000000\n",
      "7598  0.320693  0.026299  0.115269   0.000000\n",
      "7599  0.142168  0.065744  0.132977   0.000000\n",
      "\n",
      "[7600 rows x 4 columns]\n",
      "0.05261500000000002\n"
     ]
    }
   ],
   "source": [
    "print(df)\n",
    "print(df[\" Pos.y\"].max() - bottom)"
   ]
  },
  {
   "cell_type": "code",
   "execution_count": 15,
   "metadata": {},
   "outputs": [
    {
     "name": "stdout",
     "output_type": "stream",
     "text": [
      "         Pos.x     Pos.y     Pos.z   velocity\n",
      "335   0.009962  0.035294  0.262667        0.0\n",
      "699   0.009953  0.031681  0.324731        0.0\n",
      "834   0.009958  0.018639  0.142688        0.0\n",
      "876   0.009958  0.034983  0.054114        0.0\n",
      "928   0.009947  0.036761  0.205989        0.0\n",
      "...        ...       ...       ...        ...\n",
      "6421  0.009952  0.039192  0.289075        0.0\n",
      "6828  0.009916  0.028984  0.172742        0.0\n",
      "7007  0.009952  0.028556  0.112730        0.0\n",
      "7168  0.009967  0.024197  0.163981        0.0\n",
      "7591  0.009946  0.019872  0.340088        0.0\n",
      "\n",
      "[99 rows x 4 columns]\n"
     ]
    }
   ],
   "source": [
    "df2 = df[df[\"Pos.x\"]<0.01]\n",
    "print(df2)"
   ]
  },
  {
   "cell_type": "markdown",
   "metadata": {},
   "source": [
    "容器の端っこらへんを取り出す"
   ]
  },
  {
   "cell_type": "code",
   "execution_count": 18,
   "metadata": {},
   "outputs": [
    {
     "data": {
      "text/html": [
       "<div>\n",
       "<style scoped>\n",
       "    .dataframe tbody tr th:only-of-type {\n",
       "        vertical-align: middle;\n",
       "    }\n",
       "\n",
       "    .dataframe tbody tr th {\n",
       "        vertical-align: top;\n",
       "    }\n",
       "\n",
       "    .dataframe thead th {\n",
       "        text-align: right;\n",
       "    }\n",
       "</style>\n",
       "<table border=\"1\" class=\"dataframe\">\n",
       "  <thead>\n",
       "    <tr style=\"text-align: right;\">\n",
       "      <th></th>\n",
       "      <th>Pos.x</th>\n",
       "      <th>Pos.y</th>\n",
       "      <th>Pos.z</th>\n",
       "      <th>velocity</th>\n",
       "    </tr>\n",
       "  </thead>\n",
       "  <tbody>\n",
       "    <tr>\n",
       "      <th>3051</th>\n",
       "      <td>0.009827</td>\n",
       "      <td>0.009885</td>\n",
       "      <td>0.236826</td>\n",
       "      <td>0.0</td>\n",
       "    </tr>\n",
       "  </tbody>\n",
       "</table>\n",
       "</div>"
      ],
      "text/plain": [
       "         Pos.x     Pos.y     Pos.z   velocity\n",
       "3051  0.009827  0.009885  0.236826        0.0"
      ]
     },
     "execution_count": 18,
     "metadata": {},
     "output_type": "execute_result"
    }
   ],
   "source": [
    "df2[df2[\" Pos.y\"]==df2[\" Pos.y\"].min()]"
   ]
  },
  {
   "cell_type": "code",
   "execution_count": 21,
   "metadata": {},
   "outputs": [
    {
     "data": {
      "text/plain": [
       "0.02123815151515151"
      ]
     },
     "execution_count": 21,
     "metadata": {},
     "output_type": "execute_result"
    }
   ],
   "source": [
    "df2[\" Pos.y\"].mean()"
   ]
  },
  {
   "cell_type": "markdown",
   "metadata": {},
   "source": [
    "一番高い所"
   ]
  },
  {
   "cell_type": "code",
   "execution_count": null,
   "metadata": {},
   "outputs": [
    {
     "name": "stdout",
     "output_type": "stream",
     "text": [
      "0.05261500000000002\n"
     ]
    }
   ],
   "source": [
    "print(df[\" Pos.y\"].max() - bottom)"
   ]
  },
  {
   "cell_type": "code",
   "execution_count": null,
   "metadata": {},
   "outputs": [
    {
     "name": "stdout",
     "output_type": "stream",
     "text": [
      "22.827198996628294度\n"
     ]
    }
   ],
   "source": [
    "print(str(np.degrees(np.arctan( (df[\" Pos.y\"].max()-bottom) / (0.5 * (0.300-hole)) )))+\"度\")#角度"
   ]
  },
  {
   "cell_type": "code",
   "execution_count": null,
   "metadata": {},
   "outputs": [],
   "source": []
  }
 ],
 "metadata": {
  "kernelspec": {
   "display_name": "Python 3 (ipykernel)",
   "language": "python",
   "name": "python3"
  },
  "language_info": {
   "codemirror_mode": {
    "name": "ipython",
    "version": 3
   },
   "file_extension": ".py",
   "mimetype": "text/x-python",
   "name": "python",
   "nbconvert_exporter": "python",
   "pygments_lexer": "ipython3",
   "version": "3.9.7"
  }
 },
 "nbformat": 4,
 "nbformat_minor": 4
}
