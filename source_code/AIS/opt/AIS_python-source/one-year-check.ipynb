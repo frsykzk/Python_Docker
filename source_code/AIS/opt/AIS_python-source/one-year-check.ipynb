{
 "cells": [
  {
   "cell_type": "code",
   "execution_count": 1,
   "metadata": {},
   "outputs": [],
   "source": [
    "import numpy as np\n",
    "import pandas as pd\n",
    "import glob\n",
    "import pygrib\n",
    "#%matplotlib inline\n",
    "import matplotlib.pyplot as plt\n",
    "from cartopy.mpl.ticker import LongitudeFormatter, LatitudeFormatter\n",
    "import cartopy.crs as ccrs\n",
    "import datetime as dt\n",
    "from IPython.display import clear_output"
   ]
  },
  {
   "cell_type": "code",
   "execution_count": 2,
   "metadata": {},
   "outputs": [],
   "source": [
    "def MonthNumberToMonthName(month):\n",
    "    date = dt.date(2000, month, 1)  #年と日は自由に設定する\n",
    "    return date.strftime(\"%B\")"
   ]
  },
  {
   "cell_type": "markdown",
   "metadata": {},
   "source": [
    "dtg, from lon lat, eeid無し\n",
    "\n",
    "時間はdt_pos_utc使う"
   ]
  },
  {
   "cell_type": "code",
   "execution_count": 3,
   "metadata": {},
   "outputs": [
    {
     "name": "stdout",
     "output_type": "stream",
     "text": [
      "          mmsi        imo  vessel_name  length  width flag_country  \\\n",
      "0    205451000  9125384.0   CLEMENTINE   162.0   25.0      Belgium   \n",
      "1    205451000  9125384.0   CLEMENTINE   162.0   25.0      Belgium   \n",
      "2    205451000  9125384.0   CLEMENTINE   162.0   25.0      Belgium   \n",
      "3    205451000  9125384.0   CLEMENTINE   162.0   25.0      Belgium   \n",
      "4    205451000  9125384.0   CLEMENTINE   162.0   25.0      Belgium   \n",
      "..         ...        ...          ...     ...    ...          ...   \n",
      "746  775353000  8009088.0  LA CARACOLA   121.0   22.0    Venezuela   \n",
      "747  775353000  8009088.0  LA CARACOLA   121.0   22.0    Venezuela   \n",
      "748  775353000  8009088.0  LA CARACOLA   121.0   22.0    Venezuela   \n",
      "749  775353000  8009088.0  LA CARACOLA   121.0   22.0    Venezuela   \n",
      "750  775353000  8009088.0  LA CARACOLA   121.0   22.0    Venezuela   \n",
      "\n",
      "         destination      eta  draught  longitude   latitude   sog    cog  \\\n",
      "0            ESBJERG  8020800      6.1   3.211667  51.341667   0.0  185.0   \n",
      "1            ESBJERG  8020800      6.0   3.013333  51.423333  15.0  312.0   \n",
      "2            ESBJERG  8020800      6.0   3.003333  51.435000  17.0  358.0   \n",
      "3            ESBJERG  8020800      6.0   5.238333  53.815000   9.0   48.0   \n",
      "4            ESBJERG  8020800      6.0   5.386667  53.890000   9.0   48.0   \n",
      "..               ...      ...      ...        ...        ...   ...    ...   \n",
      "746  PUNTA DE PIEDRA  7240030      4.7 -64.083505  10.884892   0.0  176.2   \n",
      "747  PUNTA DE PIEDRA  7240030      4.7 -64.083425  10.885177   0.0   21.0   \n",
      "748  PUNTA DE PIEDRA  7240030      4.7 -64.083173  10.885737   0.0   37.5   \n",
      "749  PUNTA DE PIEDRA  7240030      4.7 -64.083473  10.885057   0.0    8.1   \n",
      "750  PUNTA DE PIEDRA  7240030      4.7 -64.095847  10.896118   0.0  264.3   \n",
      "\n",
      "     rot  heading      ts_pos_utc  ts_static_utc          dt_pos_utc  \\\n",
      "0    0.0        0  20180901014834   2.018090e+13 2018-09-01 01:48:34   \n",
      "1    0.0        0  20180901034534   2.018090e+13 2018-09-01 03:45:34   \n",
      "2    0.0        0  20180901034833   2.018090e+13 2018-09-01 03:48:33   \n",
      "3    0.0        0  20180901152436   2.018090e+13 2018-09-01 15:24:36   \n",
      "4    0.0        0  20180901160635   2.018090e+13 2018-09-01 16:06:35   \n",
      "..   ...      ...             ...            ...                 ...   \n",
      "746  0.0        0  20190824003158   2.019082e+13 2019-08-24 00:31:58   \n",
      "747  0.0        0  20190824102530   2.019082e+13 2019-08-24 10:25:30   \n",
      "748  0.0        0  20190824134704   2.019082e+13 2019-08-24 13:47:04   \n",
      "749  0.0        0  20190825014324   2.019082e+13 2019-08-25 01:43:24   \n",
      "750  0.0        0  20190828144750   2.019083e+13 2019-08-28 14:47:50   \n",
      "\n",
      "           dt_static_utc  \n",
      "0    2018-09-01 01:21:58  \n",
      "1    2018-09-01 03:37:24  \n",
      "2    2018-09-01 03:37:24  \n",
      "3    2018-09-01 15:19:23  \n",
      "4    2018-09-01 15:55:25  \n",
      "..                   ...  \n",
      "746  2019-08-18 00:48:16  \n",
      "747  2019-08-18 00:48:16  \n",
      "748  2019-08-18 00:48:16  \n",
      "749  2019-08-24 13:50:06  \n",
      "750  2019-08-25 10:11:12  \n",
      "\n",
      "[18197648 rows x 19 columns]\n",
      "<class 'pandas.core.frame.DataFrame'>\n",
      "Int64Index: 18197648 entries, 0 to 750\n",
      "Data columns (total 19 columns):\n",
      " #   Column         Dtype         \n",
      "---  ------         -----         \n",
      " 0   mmsi           int64         \n",
      " 1   imo            float64       \n",
      " 2   vessel_name    object        \n",
      " 3   length         float64       \n",
      " 4   width          float64       \n",
      " 5   flag_country   object        \n",
      " 6   destination    object        \n",
      " 7   eta            int64         \n",
      " 8   draught        float64       \n",
      " 9   longitude      float64       \n",
      " 10  latitude       float64       \n",
      " 11  sog            float64       \n",
      " 12  cog            float64       \n",
      " 13  rot            float64       \n",
      " 14  heading        int64         \n",
      " 15  ts_pos_utc     int64         \n",
      " 16  ts_static_utc  float64       \n",
      " 17  dt_pos_utc     datetime64[ns]\n",
      " 18  dt_static_utc  object        \n",
      "dtypes: datetime64[ns](1), float64(10), int64(4), object(4)\n",
      "memory usage: 2.7+ GB\n",
      "None\n"
     ]
    }
   ],
   "source": [
    "path = \"D:/AIS/one-year-data/pctc-data\"\n",
    "allfiles = glob.glob(path + \"/*.csv\") \n",
    "frame = pd.DataFrame()\n",
    "list_ = []\n",
    "for file_ in allfiles:\n",
    "    DF = pd.read_csv(file_,encoding='UTF-8',usecols=[\"mmsi\",\"imo\",\"vessel_name\",\"length\",\"width\",\n",
    "                             \"flag_country\",\"destination\",\"eta\",\n",
    "                             \"draught\", \"longitude\",\"latitude\",\"draught\",\n",
    "                             \"sog\",\"cog\",\"rot\",\"heading\",\n",
    "                             \"ts_pos_utc\",\"ts_static_utc\",\"dt_pos_utc\",\"dt_static_utc\"]) \n",
    "    DF['longitude'] = pd.to_numeric(DF['longitude'],errors='coerce')\n",
    "    DF['latitude'] = pd.to_numeric(DF['latitude'],errors='coerce')\n",
    "    list_.append(DF)\n",
    "frame = pd.concat(list_, join='inner')\n",
    "\n",
    "frame[\"dt_pos_utc\"] = pd.to_datetime(frame[\"dt_pos_utc\"],format=\"%Y-%m-%d %H:%M:%S\")\n",
    "print(frame)\n",
    "print(frame.info())"
   ]
  },
  {
   "cell_type": "code",
   "execution_count": 4,
   "metadata": {},
   "outputs": [],
   "source": [
    "def plot_func(year, month, day):   \n",
    "#3時間に含まれるAISデータをframe2に格納\n",
    "    frame2 = frame[(frame[\"dt_pos_utc\"]>=dt.datetime(year, month, day)) & (frame[\"dt_pos_utc\"]<dt.datetime(year,month,day)+dt.timedelta(days=1))]\n",
    "#AISをプロット\n",
    "    fig = plt.figure(figsize=(160,90), dpi=12)\n",
    "\n",
    "    ax = fig.add_subplot(  1, 1, 1, projection=ccrs.PlateCarree(central_longitude=0))\n",
    "    ax.set_global()\n",
    "    ax.stock_img()\n",
    "    ax.coastlines()\n",
    "\n",
    "    title = \"PCTC    \" + \"{} {}, {}\".format(MonthNumberToMonthName(month),day,year)\n",
    "    ax.set_title(title, size=250)\n",
    "\n",
    "    X1 = frame2[frame2[\"length\"]<100].longitude\n",
    "    Y1 = frame2[frame2[\"length\"]<100].latitude\n",
    "    plt.scatter(X1,Y1, c='red', label=\"below 100m\" ,s=100)\n",
    "\n",
    "    X2 = frame2[(frame2[\"length\"]>=100) & (frame2[\"length\"]<200)].longitude\n",
    "    Y2 = frame2[(frame2[\"length\"]>=100) & (frame2[\"length\"]<200)].latitude\n",
    "    plt.scatter(X2,Y2, c='orange', label=\"100m ~ 200m\" ,s=100)\n",
    "\n",
    "    X3 = frame2[(frame2[\"length\"]>=200) & (frame2[\"length\"]<300)].longitude\n",
    "    Y3 = frame2[(frame2[\"length\"]>=200) & (frame2[\"length\"]<300)].latitude\n",
    "    plt.scatter(X3,Y3, c='yellow', label=\"200m ~ 300m\" ,s=100)\n",
    "\n",
    "    X4 = frame2[frame2[\"length\"]>=300].longitude\n",
    "    Y4 = frame2[frame2[\"length\"]>=300].latitude\n",
    "    plt.scatter(X4,Y4, c='olive', label=\"over 300m\" ,s=100)\n",
    "\n",
    "    plt.legend(frameon=False, markerscale = 10, bbox_to_anchor=(1.01,0.14), loc=\"upper left\", borderaxespad=0, fontsize=100)\n",
    "    \n",
    "    fig.savefig(\"D:/AIS/one-year-data/plot/pctc/{}-{}/PCTC_{}-{}-{}.jpg\".format(str(year).zfill(4), str(month).zfill(2),  str(year).zfill(4), str(month).zfill(2), str(day).zfill(2)))\n",
    "    fig.savefig(\"D:/AIS/one-year-data/plot/pctc/all/PCTC_{}-{}-{}.jpg\".format(str(year).zfill(4), str(month).zfill(2), str(day).zfill(2)))\n",
    "        \n",
    "    plt.close(\"all\")\n",
    "    clear_output(True)\n",
    "        \n",
    "    print(\"{}-{}-{} saved!\".format(str(year).zfill(4), str(month).zfill(2), str(day).zfill(2)))        "
   ]
  },
  {
   "cell_type": "code",
   "execution_count": 5,
   "metadata": {},
   "outputs": [
    {
     "name": "stdout",
     "output_type": "stream",
     "text": [
      "2019-08-31 saved!\n"
     ]
    }
   ],
   "source": [
    "date = dt.datetime(2018,9,1)\n",
    "for i in range(0,365):\n",
    "    plot_func(date.year,date.month,date.day)\n",
    "    clear_output(True)\n",
    "    date += dt.timedelta(days=1)"
   ]
  },
  {
   "cell_type": "code",
   "execution_count": 6,
   "metadata": {},
   "outputs": [
    {
     "name": "stdout",
     "output_type": "stream",
     "text": [
      "365\n"
     ]
    }
   ],
   "source": [
    "import glob\n",
    "from PIL import Image\n",
    "\n",
    "path = \"D:/AIS/one-year-data/plot/pctc/all\"\n",
    "images = sorted(glob.glob(path + \"/*.jpg\"))\n",
    "frames = []\n",
    "print(len(images))\n",
    "\n",
    "for image in images:\n",
    "    new_frame = Image.open(image)\n",
    "    frames.append(new_frame)\n",
    "    \n",
    "frames[0].save(path+\"/pctc_one-year.gif\", append_images=frames[1:], save_all=True, duration=100, loop=0)"
   ]
  },
  {
   "cell_type": "code",
   "execution_count": null,
   "metadata": {},
   "outputs": [],
   "source": []
  }
 ],
 "metadata": {
  "kernelspec": {
   "display_name": "Python 3 (ipykernel)",
   "language": "python",
   "name": "python3"
  },
  "language_info": {
   "codemirror_mode": {
    "name": "ipython",
    "version": 3
   },
   "file_extension": ".py",
   "mimetype": "text/x-python",
   "name": "python",
   "nbconvert_exporter": "python",
   "pygments_lexer": "ipython3",
   "version": "3.8.12"
  }
 },
 "nbformat": 4,
 "nbformat_minor": 4
}
