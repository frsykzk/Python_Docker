{
 "cells": [
  {
   "cell_type": "code",
   "execution_count": null,
   "metadata": {},
   "outputs": [],
   "source": [
    "import numpy as np\n",
    "import pandas as pd\n",
    "import glob"
   ]
  },
  {
   "cell_type": "code",
   "execution_count": null,
   "metadata": {},
   "outputs": [],
   "source": [
    "path = \"D:/AIS/ship_type_area/Area3/Container\"\n",
    "allfiles = glob.glob(path + \"/*.csv\") \n",
    "frame = pd.DataFrame()\n",
    "list_ = []\n",
    "for file_ in allfiles:\n",
    "    df = pd.read_csv(file_,encoding='UTF-8',usecols=[\"mmsi\",\"dtg\",\"longitude\",\"latitude\"]) \n",
    "    df['longitude'] = pd.to_numeric(df['longitude'],errors='coerce')\n",
    "    df['latitude'] = pd.to_numeric(df['latitude'],errors='coerce')\n",
    "    list_.append(df)\n",
    "frame = pd.concat(list_, join='inner')"
   ]
  },
  {
   "cell_type": "code",
   "execution_count": null,
   "metadata": {},
   "outputs": [],
   "source": [
    "frame"
   ]
  },
  {
   "cell_type": "code",
   "execution_count": null,
   "metadata": {},
   "outputs": [],
   "source": [
    "frame[\"dtg\"] = pd.to_datetime(frame[\"dtg\"],format=\"%Y-%m-%dT%H:%M:%S\")\n",
    "print(frame)\n",
    "frame.info()"
   ]
  },
  {
   "cell_type": "code",
   "execution_count": null,
   "metadata": {},
   "outputs": [],
   "source": [
    "#frame.to_csv(\"D:/AIS/ship_type_2/Osaka-Container_cut.csv\",index=False)"
   ]
  },
  {
   "cell_type": "code",
   "execution_count": null,
   "metadata": {},
   "outputs": [],
   "source": [
    "frame2 = frame[frame[\"dtg\"].dt.month==12]\n",
    "frame2"
   ]
  },
  {
   "cell_type": "code",
   "execution_count": null,
   "metadata": {
    "scrolled": true
   },
   "outputs": [],
   "source": [
    "%matplotlib inline\n",
    "import matplotlib.pyplot as plt\n",
    "import matplotlib.pyplot as plt\n",
    "from cartopy.mpl.ticker import LongitudeFormatter, LatitudeFormatter\n",
    "import cartopy.crs as ccrs\n",
    "\n",
    "fig = plt.figure(figsize=(300,200))\n",
    "\n",
    "ax = fig.add_subplot(  1, 1, 1, projection=ccrs.PlateCarree(central_longitude=0))\n",
    "ax.set_global()\n",
    "ax.stock_img()\n",
    "ax.coastlines()\n",
    "#gl = ax.gridlines(crs=ccrs.PlateCarree(), draw_labels=False, linewidth=10, color='gray', alpha=0.5, linestyle='--')\n",
    "#gl.xlabels_top = False\n",
    "#gl.ylabels_right = False\n",
    "\n",
    "#ax.set_xticks([-180, -120, -60, 0, 60, 120, 180], crs=ccrs.PlateCarree())\n",
    "#ax.set_yticks([-90, -80, -60, -40, -20, 0, 20, 40,60, 80, 90], crs=ccrs.PlateCarree())\n",
    "#lon_formatter = LongitudeFormatter(zero_direction_label=True, number_format='.1f', degree_symbol='')\n",
    "##lat_formatter = LatitudeFormatter(number_format='.1f')\n",
    "#ax.xaxis.set_major_formatter(lon_formatter)\n",
    "#ax.yaxis.set_major_formatter(lat_formatter)\n",
    "\n",
    "ax.set_title('Container Area2 2018-12', size=500)\n",
    "\n",
    "x = frame2.longitude\n",
    "y = frame2.latitude\n",
    "plt.scatter(x,y, c='red',s=500)\n",
    "\n",
    "plt.show()"
   ]
  },
  {
   "cell_type": "code",
   "execution_count": null,
   "metadata": {},
   "outputs": [],
   "source": [
    "#fig.savefig(\"D:/AIS/ship_type_area/Area3/Container_Area3_2018-12.png\")"
   ]
  },
  {
   "cell_type": "code",
   "execution_count": null,
   "metadata": {},
   "outputs": [],
   "source": []
  }
 ],
 "metadata": {
  "kernelspec": {
   "display_name": "Python 3",
   "language": "python",
   "name": "python3"
  },
  "language_info": {
   "codemirror_mode": {
    "name": "ipython",
    "version": 3
   },
   "file_extension": ".py",
   "mimetype": "text/x-python",
   "name": "python",
   "nbconvert_exporter": "python",
   "pygments_lexer": "ipython3",
   "version": "3.8.8"
  }
 },
 "nbformat": 4,
 "nbformat_minor": 4
}
