{
 "cells": [
  {
   "cell_type": "code",
   "execution_count": 1,
   "id": "6d1c708e",
   "metadata": {},
   "outputs": [],
   "source": [
    "import numpy as np\n",
    "import pandas as pd\n",
    "import seaborn as sns\n",
    "import glob\n",
    "import pygrib\n",
    "%matplotlib inline\n",
    "import matplotlib.pyplot as plt\n",
    "from cartopy.mpl.ticker import LongitudeFormatter, LatitudeFormatter\n",
    "import cartopy.crs as ccrs\n",
    "import datetime as dt\n",
    "import time\n",
    "from IPython.display import clear_output"
   ]
  },
  {
   "cell_type": "code",
   "execution_count": 2,
   "id": "c49fa075",
   "metadata": {},
   "outputs": [
    {
     "name": "stdout",
     "output_type": "stream",
     "text": [
      "               mmsi  longitude   latitude                  dtg\n",
      "0         209056000 -13.539053  28.940488  2018-12-01 01:07:08\n",
      "1         209056000 -13.529402  28.969412  2018-12-01 02:18:28\n",
      "2         209056000 -13.529522  28.969385  2018-12-01 02:38:12\n",
      "3         209056000 -13.529523  28.969427  2018-12-01 03:41:13\n",
      "4         209056000 -13.529528  28.969400  2018-12-01 05:17:06\n",
      "...             ...        ...        ...                  ...\n",
      "31329503  755630162 -57.644885 -25.273867  2019-02-28 04:18:42\n",
      "31329504  755630162 -57.644820 -25.273917  2019-02-28 11:20:22\n",
      "31329505  755630162 -57.644880 -25.273877  2019-02-28 20:02:39\n",
      "31329506  755630162 -57.644852 -25.273870  2019-02-28 22:32:21\n",
      "31329507  755630162 -57.644830 -25.273887  2019-02-28 23:54:36\n",
      "\n",
      "[31329508 rows x 4 columns]\n",
      "<class 'pandas.core.frame.DataFrame'>\n",
      "Int64Index: 31329508 entries, 14346543 to 8831489\n",
      "Data columns (total 4 columns):\n",
      " #   Column     Dtype         \n",
      "---  ------     -----         \n",
      " 0   mmsi       int64         \n",
      " 1   longitude  float64       \n",
      " 2   latitude   float64       \n",
      " 3   dtg        datetime64[ns]\n",
      "dtypes: datetime64[ns](1), float64(2), int64(1)\n",
      "memory usage: 1.2 GB\n",
      "None\n"
     ]
    }
   ],
   "source": [
    "path = \"D:/AIS/ship_type_2/Osaka-Container_cut.csv\"\n",
    "frame = pd.read_csv(path, encoding='UTF-8',usecols=[\"mmsi\",\"dtg\",\"longitude\",\"latitude\"]) \n",
    "print(frame)\n",
    "\n",
    "frame[\"dtg\"] = pd.to_datetime(frame[\"dtg\"],format=\"%Y-%m-%dT%H:%M:%S\")\n",
    "frame = frame.sort_values(\"dtg\")\n",
    "print(frame.info())"
   ]
  },
  {
   "cell_type": "markdown",
   "id": "ab1a0757",
   "metadata": {},
   "source": [
    "AISデータ読み込み(１船種・全期間)"
   ]
  },
  {
   "cell_type": "code",
   "execution_count": 4,
   "id": "36e797bb",
   "metadata": {},
   "outputs": [
    {
     "name": "stdout",
     "output_type": "stream",
     "text": [
      "               mmsi   longitude   latitude                 dtg\n",
      "3107262   226324000  -35.205000  -5.770833 2018-12-01 03:34:31\n",
      "3094798   226324000  -35.205000  -5.770833 2018-12-01 03:35:23\n",
      "3098981   226324000  -35.205000  -5.770833 2018-12-01 03:35:23\n",
      "3107265   226324000  -35.205000  -5.770833 2018-12-01 03:36:07\n",
      "3107266   226324000  -35.205000  -5.770833 2018-12-01 03:36:11\n",
      "...             ...         ...        ...                 ...\n",
      "17236409  477143100   11.781973  -4.762302 2019-02-27 03:33:40\n",
      "13895594  413060000  120.266833  22.514667 2019-02-27 19:45:15\n",
      "5083949   248703000 -104.291500  19.070133 2019-02-28 14:07:14\n",
      "5083965   248703000 -104.291500  19.070133 2019-02-28 18:07:15\n",
      "24705849  565402000  151.206500 -33.970333 2019-02-28 18:34:39\n",
      "\n",
      "[1026 rows x 4 columns]\n"
     ]
    }
   ],
   "source": [
    "print(frame[frame.duplicated()])"
   ]
  },
  {
   "cell_type": "markdown",
   "id": "0ba267a9",
   "metadata": {},
   "source": [
    "重複確認"
   ]
  },
  {
   "cell_type": "code",
   "execution_count": 6,
   "id": "a551a84f",
   "metadata": {},
   "outputs": [
    {
     "name": "stdout",
     "output_type": "stream",
     "text": [
      "               mmsi   longitude   latitude                 dtg\n",
      "14346543  413381280  122.933333  31.346667 2018-12-01 00:00:01\n",
      "4707348   247009600  114.382750  22.168500 2018-12-01 00:00:01\n",
      "7204656   256246000    2.602072  51.754510 2018-12-01 00:00:01\n",
      "7441770   256858000  -17.981667  12.036667 2018-12-01 00:00:02\n",
      "17701228  477194100    1.628022  51.163177 2018-12-01 00:00:02\n",
      "...             ...         ...        ...                 ...\n",
      "7496642   256937000   80.275933  -5.988050 2019-02-28 23:59:57\n",
      "24684363  565380000  -82.998438   9.973590 2019-02-28 23:59:57\n",
      "7609906   271001092   29.091102  41.552620 2019-02-28 23:59:58\n",
      "1253149   212833000    4.412667  51.878333 2019-02-28 23:59:59\n",
      "8831489   310233000   -3.323283  49.953863 2019-02-28 23:59:59\n",
      "\n",
      "[31328482 rows x 4 columns]\n"
     ]
    }
   ],
   "source": [
    "frame = frame.drop_duplicates()\n",
    "print(frame)"
   ]
  },
  {
   "cell_type": "markdown",
   "id": "53e74e94",
   "metadata": {},
   "source": [
    "重複削除"
   ]
  },
  {
   "cell_type": "code",
   "execution_count": 7,
   "id": "7ff0ebd1",
   "metadata": {},
   "outputs": [
    {
     "name": "stderr",
     "output_type": "stream",
     "text": [
      "<ipython-input-7-7ee61d84d500>:1: SettingWithCopyWarning: \n",
      "A value is trying to be set on a copy of a slice from a DataFrame.\n",
      "Try using .loc[row_indexer,col_indexer] = value instead\n",
      "\n",
      "See the caveats in the documentation: https://pandas.pydata.org/pandas-docs/stable/user_guide/indexing.html#returning-a-view-versus-a-copy\n",
      "  frame[\"count\"] = 1\n"
     ]
    },
    {
     "name": "stdout",
     "output_type": "stream",
     "text": [
      "               mmsi                 dtg  count\n",
      "14346543  413381280 2018-12-01 00:00:01      1\n",
      "4707348   247009600 2018-12-01 00:00:01      1\n",
      "7204656   256246000 2018-12-01 00:00:01      1\n",
      "7441770   256858000 2018-12-01 00:00:02      1\n",
      "17701228  477194100 2018-12-01 00:00:02      1\n",
      "...             ...                 ...    ...\n",
      "7496642   256937000 2019-02-28 23:59:57      1\n",
      "24684363  565380000 2019-02-28 23:59:57      1\n",
      "7609906   271001092 2019-02-28 23:59:58      1\n",
      "1253149   212833000 2019-02-28 23:59:59      1\n",
      "8831489   310233000 2019-02-28 23:59:59      1\n",
      "\n",
      "[31328482 rows x 3 columns]\n"
     ]
    }
   ],
   "source": [
    "frame[\"count\"] = 1\n",
    "frame = frame.drop(columns=[\"longitude\",\"latitude\"])\n",
    "print(frame)"
   ]
  },
  {
   "cell_type": "code",
   "execution_count": 8,
   "id": "bcac9705",
   "metadata": {},
   "outputs": [
    {
     "data": {
      "text/plain": [
       "mmsi\n",
       "209056000     6473\n",
       "209087000    10616\n",
       "209096000     2208\n",
       "209098000     7240\n",
       "209103000     6642\n",
       "             ...  \n",
       "725001547    13565\n",
       "725017200     3880\n",
       "725017700    14937\n",
       "725019910    11091\n",
       "755630162     5110\n",
       "Length: 4557, dtype: int64"
      ]
     },
     "execution_count": 8,
     "metadata": {},
     "output_type": "execute_result"
    }
   ],
   "source": [
    "frame2 = frame.groupby(\"mmsi\")\n",
    "frame2.size()"
   ]
  },
  {
   "cell_type": "code",
   "execution_count": 9,
   "id": "0f01d26c",
   "metadata": {},
   "outputs": [
    {
     "name": "stdout",
     "output_type": "stream",
     "text": [
      "                          mmsi  count\n",
      "dtg                                  \n",
      "2018-12-01 00:00:00  209056000     16\n",
      "2018-12-01 03:00:00  209056000     14\n",
      "2018-12-01 06:00:00  209056000     12\n",
      "2018-12-01 09:00:00  209056000     13\n",
      "2018-12-01 12:00:00  209056000     12\n",
      "...                        ...    ...\n",
      "2019-02-28 09:00:00  755630162      2\n",
      "2019-02-28 12:00:00  755630162      0\n",
      "2019-02-28 15:00:00  755630162      0\n",
      "2019-02-28 18:00:00  755630162      3\n",
      "2019-02-28 21:00:00  755630162      5\n",
      "\n",
      "[3190513 rows x 2 columns]\n"
     ]
    }
   ],
   "source": [
    "result = pd.DataFrame()\n",
    "for _name, _df in frame2:\n",
    "    _df2 = _df.resample(\"3H\", on=\"dtg\").sum()\n",
    "    _df2[\"mmsi\"] = _name   \n",
    "    result = pd.concat([result,_df2])\n",
    "print(result)"
   ]
  },
  {
   "cell_type": "code",
   "execution_count": null,
   "id": "f8581019",
   "metadata": {},
   "outputs": [],
   "source": [
    "result.to_csv(\"D:/AIS/Container_3hour_count.csv\")"
   ]
  },
  {
   "cell_type": "markdown",
   "id": "27a11cea",
   "metadata": {},
   "source": [
    "3時間ごとmmsi別のデータ数カウント"
   ]
  },
  {
   "cell_type": "code",
   "execution_count": 10,
   "id": "47317429",
   "metadata": {},
   "outputs": [
    {
     "data": {
      "text/plain": [
       "count    3.190513e+06\n",
       "mean     9.819262e+00\n",
       "std      1.018996e+01\n",
       "min      0.000000e+00\n",
       "25%      2.000000e+00\n",
       "50%      1.100000e+01\n",
       "75%      1.500000e+01\n",
       "max      2.018000e+03\n",
       "Name: count, dtype: float64"
      ]
     },
     "execution_count": 10,
     "metadata": {},
     "output_type": "execute_result"
    }
   ],
   "source": [
    "result[\"count\"].describe()"
   ]
  },
  {
   "cell_type": "code",
   "execution_count": 11,
   "id": "dff98e41",
   "metadata": {},
   "outputs": [
    {
     "data": {
      "text/plain": [
       "<seaborn.axisgrid.FacetGrid at 0x166754b5310>"
      ]
     },
     "execution_count": 11,
     "metadata": {},
     "output_type": "execute_result"
    },
    {
     "data": {
      "image/png": "[encoded data removed]",
      "text/plain": [
       "<Figure size 360x360 with 1 Axes>"
      ]
     },
     "metadata": {
      "needs_background": "light"
     },
     "output_type": "display_data"
    }
   ],
   "source": [
    "sns.catplot(x=\"mmsi\",y=\"count\", data=result, kind=\"box\")"
   ]
  },
  {
   "cell_type": "code",
   "execution_count": null,
   "id": "2a7e86dc",
   "metadata": {},
   "outputs": [],
   "source": []
  },
  {
   "cell_type": "code",
   "execution_count": null,
   "id": "60179a24",
   "metadata": {},
   "outputs": [],
   "source": [
    "re = result.loc[[result[\"count\"].idxmax()]]"
   ]
  },
  {
   "cell_type": "code",
   "execution_count": null,
   "id": "b9b8c420",
   "metadata": {},
   "outputs": [],
   "source": [
    "re.to_csv(\"D:/AIS/Container_max.csv\")"
   ]
  },
  {
   "cell_type": "markdown",
   "id": "e889eb01",
   "metadata": {},
   "source": [
    "最大値の場所探し"
   ]
  },
  {
   "cell_type": "code",
   "execution_count": null,
   "id": "8496cbbb",
   "metadata": {},
   "outputs": [],
   "source": [
    "frame[(frame[\"mmsi\"]==255805657)&(frame[\"dtg\"]==dt.datetime(2018,12,9,18))]"
   ]
  },
  {
   "cell_type": "code",
   "execution_count": null,
   "id": "542ff5ad",
   "metadata": {},
   "outputs": [],
   "source": [
    "re[700:730]"
   ]
  },
  {
   "cell_type": "code",
   "execution_count": null,
   "id": "6905cc4e",
   "metadata": {},
   "outputs": [],
   "source": []
  },
  {
   "cell_type": "code",
   "execution_count": null,
   "id": "80ba0535",
   "metadata": {},
   "outputs": [],
   "source": [
    "result.info()"
   ]
  },
  {
   "cell_type": "code",
   "execution_count": null,
   "id": "1a59c968",
   "metadata": {},
   "outputs": [],
   "source": []
  },
  {
   "cell_type": "code",
   "execution_count": null,
   "id": "05acb20d",
   "metadata": {},
   "outputs": [],
   "source": []
  },
  {
   "cell_type": "code",
   "execution_count": null,
   "id": "49b5f905",
   "metadata": {},
   "outputs": [],
   "source": []
  },
  {
   "cell_type": "code",
   "execution_count": null,
   "id": "03278213",
   "metadata": {},
   "outputs": [],
   "source": [
    "frame2 = frame.drop_duplicates(subset=\"mmsi\")\n",
    "print(frame2)\n",
    "frame2.info()"
   ]
  },
  {
   "cell_type": "markdown",
   "id": "b7899428",
   "metadata": {},
   "source": [
    "隻数　(mmsi重複データ削除)"
   ]
  },
  {
   "cell_type": "code",
   "execution_count": null,
   "id": "8bc6ce75",
   "metadata": {},
   "outputs": [],
   "source": [
    "frame3 = frame.sort_values(\"dtg\")\n",
    "print(frame3)"
   ]
  },
  {
   "cell_type": "markdown",
   "id": "2d8cb0b4",
   "metadata": {},
   "source": [
    "時間ソート"
   ]
  },
  {
   "cell_type": "code",
   "execution_count": null,
   "id": "894b4214",
   "metadata": {},
   "outputs": [],
   "source": []
  }
 ],
 "metadata": {
  "kernelspec": {
   "display_name": "Python 3",
   "language": "python",
   "name": "python3"
  },
  "language_info": {
   "codemirror_mode": {
    "name": "ipython",
    "version": 3
   },
   "file_extension": ".py",
   "mimetype": "text/x-python",
   "name": "python",
   "nbconvert_exporter": "python",
   "pygments_lexer": "ipython3",
   "version": "3.8.8"
  }
 },
 "nbformat": 4,
 "nbformat_minor": 5
}
