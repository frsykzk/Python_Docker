{
 "cells": [
  {
   "cell_type": "code",
   "execution_count": null,
   "metadata": {},
   "outputs": [],
   "source": [
    "import numpy as np\n",
    "import pandas as pd\n",
    "import glob\n",
    "import pygrib\n",
    "%matplotlib inline\n",
    "import matplotlib.pyplot as plt\n",
    "from cartopy.mpl.ticker import LongitudeFormatter, LatitudeFormatter\n",
    "import cartopy.crs as ccrs\n",
    "import datetime as dt"
   ]
  },
  {
   "cell_type": "code",
   "execution_count": null,
   "metadata": {},
   "outputs": [],
   "source": [
    "file = \"D:/AIS/NCEP(201812-201902)/20181202/multi_1.nww3.t00z.grib2\"\n",
    "#file = \"D:/AIS/NCEP(201812-201902)/20181201/nww3.t18z.grib.grib2\"\n",
    "grb = pygrib.open(file)"
   ]
  },
  {
   "cell_type": "code",
   "execution_count": null,
   "metadata": {},
   "outputs": [],
   "source": [
    "path = \"D:/AIS/ship_type/Osaka-PCTC\"\n",
    "allfiles = glob.glob(path + \"/*.csv\") \n",
    "frame = pd.DataFrame()\n",
    "list_ = []\n",
    "for file_ in allfiles:\n",
    "    DF = pd.read_csv(file_,encoding='UTF-8',usecols=[\"dtg\",\"longitude\",\"latitude\"]) \n",
    "    DF['longitude'] = pd.to_numeric(DF['longitude'],errors='coerce')\n",
    "    DF['latitude'] = pd.to_numeric(DF['latitude'],errors='coerce')\n",
    "    list_.append(DF)\n",
    "frame = pd.concat(list_, join='inner')\n",
    "print(frame)\n",
    "\n",
    "frame[\"dtg\"] = pd.to_datetime(frame[\"dtg\"],format=\"%Y-%m-%dT%H:%M:%S\")\n",
    "print(frame)\n",
    "print(frame.info())"
   ]
  },
  {
   "cell_type": "code",
   "execution_count": null,
   "metadata": {},
   "outputs": [],
   "source": [
    "for i in grb:\n",
    "    print(i)"
   ]
  },
  {
   "cell_type": "code",
   "execution_count": null,
   "metadata": {},
   "outputs": [],
   "source": [
    "data,lats,lons = grb.select(name=\"Significant height of combined wind waves and swell\")[7].data()\n",
    "df = pd.DataFrame(data = [np.ravel(lons), np.ravel(lats), np.ravel(data)], index=[\"longitude\",\"latitude\",\"wave hight\"]).T\n",
    "print(df)"
   ]
  },
  {
   "cell_type": "code",
   "execution_count": null,
   "metadata": {},
   "outputs": [],
   "source": [
    "np.amax(data)"
   ]
  },
  {
   "cell_type": "code",
   "execution_count": null,
   "metadata": {},
   "outputs": [],
   "source": [
    "frame2 = frame[(frame[\"dtg\"]>=dt.datetime(2018,12,2,21)) & (frame[\"dtg\"]<dt.datetime(2018,12,3,0))]\n",
    "print(frame2)"
   ]
  },
  {
   "cell_type": "code",
   "execution_count": null,
   "metadata": {},
   "outputs": [],
   "source": [
    "fig = plt.figure(figsize=(280,210))\n",
    "\n",
    "ax = fig.add_subplot(  1, 1, 1, projection=ccrs.PlateCarree(central_longitude=0))\n",
    "ax.set_global()\n",
    "ax.stock_img()\n",
    "ax.coastlines()\n",
    "\n",
    "ax.set_title('PCTC  2018-12-02  21:00:00 - 24:00:00', size=500)\n",
    "\n",
    "x = df[\"longitude\"]#経度\n",
    "y = df[\"latitude\"]#緯度\n",
    "z = df[\"wave hight\"]\n",
    "sc = ax.scatter(x,y, c = z, vmin=0, vmax=20, cmap=\"cool\", s=2800)\n",
    "fig.colorbar(sc, pad = 0.02, orientation=\"horizontal\")\n",
    "\n",
    "X = frame2.longitude\n",
    "Y = frame2.latitude\n",
    "plt.scatter(X,Y, c='snow',s=1000)\n",
    "\n",
    "plt.show()"
   ]
  },
  {
   "cell_type": "code",
   "execution_count": null,
   "metadata": {},
   "outputs": [],
   "source": [
    "fig.savefig(\"D:/AIS/anime/PCTC_WaveHight_2018-12-02-21.jpg\")"
   ]
  },
  {
   "cell_type": "code",
   "execution_count": null,
   "metadata": {},
   "outputs": [],
   "source": []
  },
  {
   "cell_type": "code",
   "execution_count": 4,
   "metadata": {},
   "outputs": [
    {
     "name": "stdout",
     "output_type": "stream",
     "text": [
      "January\n",
      "February\n",
      "March\n",
      "April\n",
      "May\n",
      "June\n",
      "July\n",
      "August\n",
      "September\n",
      "October\n",
      "November\n",
      "December\n"
     ]
    }
   ],
   "source": [
    "import datetime\n",
    "\n",
    "def MonthNumberToMonthName(month):\n",
    "    date = datetime.date(2000, month, 1)  #年と日は自由に設定する\n",
    "    return date.strftime(\"%B\")\n",
    "\n",
    "# １月から１２月まで表示\n",
    "for month_number in range(1,13):\n",
    "    month_name = MonthNumberToMonthName(month_number)\n",
    "    print(month_name)"
   ]
  },
  {
   "cell_type": "code",
   "execution_count": null,
   "metadata": {},
   "outputs": [],
   "source": []
  }
 ],
 "metadata": {
  "kernelspec": {
   "display_name": "Python 3",
   "language": "python",
   "name": "python3"
  },
  "language_info": {
   "codemirror_mode": {
    "name": "ipython",
    "version": 3
   },
   "file_extension": ".py",
   "mimetype": "text/x-python",
   "name": "python",
   "nbconvert_exporter": "python",
   "pygments_lexer": "ipython3",
   "version": "3.8.8"
  }
 },
 "nbformat": 4,
 "nbformat_minor": 4
}
