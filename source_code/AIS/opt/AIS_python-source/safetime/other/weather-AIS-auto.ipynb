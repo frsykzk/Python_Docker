{
 "cells": [
  {
   "cell_type": "code",
   "execution_count": null,
   "metadata": {},
   "outputs": [],
   "source": [
    "import numpy as np\n",
    "import pandas as pd\n",
    "import glob\n",
    "import pygrib\n",
    "%matplotlib inline\n",
    "import matplotlib.pyplot as plt\n",
    "from cartopy.mpl.ticker import LongitudeFormatter, LatitudeFormatter\n",
    "import cartopy.crs as ccrs\n",
    "import datetime as dt"
   ]
  },
  {
   "cell_type": "code",
   "execution_count": null,
   "metadata": {},
   "outputs": [],
   "source": [
    "path = \"D:/AIS/ship_type/Osaka-Container\"\n",
    "allfiles = glob.glob(path + \"/*.csv\") \n",
    "frame = pd.DataFrame()\n",
    "list_ = []\n",
    "for file_ in allfiles:\n",
    "    DF = pd.read_csv(file_,encoding='UTF-8',usecols=[\"dtg\",\"longitude\",\"latitude\"]) \n",
    "    DF['longitude'] = pd.to_numeric(DF['longitude'],errors='coerce')\n",
    "    DF['latitude'] = pd.to_numeric(DF['latitude'],errors='coerce')\n",
    "    list_.append(DF)\n",
    "frame = pd.concat(list_, join='inner')\n",
    "print(frame)\n",
    "\n",
    "frame[\"dtg\"] = pd.to_datetime(frame[\"dtg\"],format=\"%Y-%m-%dT%H:%M:%S\")\n",
    "print(frame)\n",
    "print(frame.info())"
   ]
  },
  {
   "cell_type": "code",
   "execution_count": null,
   "metadata": {},
   "outputs": [],
   "source": [
    "year = 2019\n",
    "month = 1\n",
    "day = 7\n",
    "\n",
    "\n",
    "file = \"D:/AIS/NCEP(201812-201902)/{}{}{}/multi_1.nww3.t00z.grib2\".format(str(year).zfill(4),str(month).zfill(2),str(day).zfill(2))\n",
    "#file = \"D:/AIS/NCEP(201812-201902)/20181201/nww3.t18z.grib.grib2\"\n",
    "grb = pygrib.open(file)\n",
    "print(file)\n",
    "    \n",
    "    \n",
    "for num in range(0,7):\n",
    "    data,lats,lons = grb.select(name=\"Significant height of combined wind waves and swell\")[num].data()\n",
    "    df = pd.DataFrame(data = [np.ravel(lons), np.ravel(lats), np.ravel(data)], index=[\"longitude\",\"latitude\",\"wave hight\"]).T\n",
    "    \n",
    "    frame2 = frame[(frame[\"dtg\"]>=dt.datetime(year,month,day,num*3)) & (frame[\"dtg\"]<dt.datetime(year,month,day,(num+1)*3))]\n",
    "    \n",
    "    \n",
    "    fig = plt.figure(figsize=(280,210))\n",
    "\n",
    "    ax = fig.add_subplot(  1, 1, 1, projection=ccrs.PlateCarree(central_longitude=0))\n",
    "    ax.set_global()\n",
    "    ax.stock_img()\n",
    "    ax.coastlines()\n",
    "\n",
    "    ax.set_title('Container  {}-{}-{}  {}:00:00 - {}:00:00'.format(str(year).zfill(4),str(month).zfill(2),str(day).zfill(2),str(num*3).zfill(2),str(num*3+3).zfill(2)), size=500)\n",
    "\n",
    "    x = df[\"longitude\"]#経度\n",
    "    y = df[\"latitude\"]#緯度\n",
    "    z = df[\"wave hight\"]\n",
    "    sc = ax.scatter(x,y, c = z, vmin=0, vmax=20, cmap=\"cool\", s=2800)\n",
    "    cbar = fig.colorbar(sc, pad = 0.02, orientation=\"horizontal\", ticks=[0,5,10,15,20])\n",
    "    cbar.set_label(\"Significant Wave Height\",size=300)\n",
    "\n",
    "    X = frame2.longitude\n",
    "    Y = frame2.latitude\n",
    "    plt.scatter(X,Y, c='yellow',s=1000)\n",
    "    \n",
    "    fig.savefig(\"D:/AIS/anime/Container_WaveHight_{}-{}-{}-{}.png\".format(str(year).zfill(4),str(month).zfill(2),str(day).zfill(2),str(num*3).zfill(2)))\n",
    "    \n",
    "    \n",
    "frame2 = frame[(frame[\"dtg\"]>=dt.datetime(year,month,day,21)) & (frame[\"dtg\"]<dt.datetime(year,month,day+1,0))]\n",
    "\n",
    "fig = plt.figure(figsize=(280,210))\n",
    "\n",
    "ax = fig.add_subplot(  1, 1, 1, projection=ccrs.PlateCarree(central_longitude=0))\n",
    "ax.set_global()\n",
    "ax.stock_img()\n",
    "ax.coastlines()\n",
    "\n",
    "ax.set_title('Container  {}-{}-{}  21:00:00 - 24:00:00'.format(str(year).zfill(4),str(month).zfill(2),str(day).zfill(2)), size=500)\n",
    "\n",
    "x = df[\"longitude\"]#経度\n",
    "y = df[\"latitude\"]#緯度\n",
    "z = df[\"wave hight\"]\n",
    "sc = ax.scatter(x,y, c = z, vmin=0, vmax=20, cmap=\"cool\", s=2800)\n",
    "cbar = fig.colorbar(sc, pad = 0.02, orientation=\"horizontal\", ticks=[0,5,10,15,20])\n",
    "cbar.set_label(\"Significant Wave Height\",size=300)\n",
    "\n",
    "X = frame2.longitude\n",
    "Y = frame2.latitude\n",
    "plt.scatter(X,Y, c='yellow',s=1000)\n",
    "\n",
    "#plt.show()\n",
    "plt.close(fig)\n",
    "fig.savefig(\"D:/AIS/anime/Container_WaveHight_{}-{}-{}-21.jpg\".format(str(year).zfill(4),str(month).zfill(2),str(day).zfill(2)))"
   ]
  },
  {
   "cell_type": "code",
   "execution_count": null,
   "metadata": {},
   "outputs": [],
   "source": []
  },
  {
   "cell_type": "code",
   "execution_count": 1,
   "metadata": {},
   "outputs": [
    {
     "ename": "ValueError",
     "evalue": "month must be in 1..12",
     "output_type": "error",
     "traceback": [
      "\u001b[1;31m---------------------------------------------------------------------------\u001b[0m",
      "\u001b[1;31mValueError\u001b[0m                                Traceback (most recent call last)",
      "\u001b[1;32m<ipython-input-1-c768960bea08>\u001b[0m in \u001b[0;36m<module>\u001b[1;34m\u001b[0m\n\u001b[0;32m      7\u001b[0m \u001b[1;31m# １月から１２月まで表示\u001b[0m\u001b[1;33m\u001b[0m\u001b[1;33m\u001b[0m\u001b[1;33m\u001b[0m\u001b[0m\n\u001b[0;32m      8\u001b[0m \u001b[1;32mfor\u001b[0m \u001b[0mmonth_number\u001b[0m \u001b[1;32min\u001b[0m \u001b[0mrange\u001b[0m\u001b[1;33m(\u001b[0m\u001b[1;36m12\u001b[0m\u001b[1;33m)\u001b[0m\u001b[1;33m:\u001b[0m\u001b[1;33m\u001b[0m\u001b[1;33m\u001b[0m\u001b[0m\n\u001b[1;32m----> 9\u001b[1;33m     \u001b[0mmonth_name\u001b[0m \u001b[1;33m=\u001b[0m \u001b[0mMonthNumberToMonthName\u001b[0m\u001b[1;33m(\u001b[0m\u001b[0mmonth_number\u001b[0m\u001b[1;33m)\u001b[0m\u001b[1;33m\u001b[0m\u001b[1;33m\u001b[0m\u001b[0m\n\u001b[0m\u001b[0;32m     10\u001b[0m     \u001b[0mprint\u001b[0m\u001b[1;33m(\u001b[0m\u001b[0mmonth_name\u001b[0m\u001b[1;33m)\u001b[0m\u001b[1;33m\u001b[0m\u001b[1;33m\u001b[0m\u001b[0m\n",
      "\u001b[1;32m<ipython-input-1-c768960bea08>\u001b[0m in \u001b[0;36mMonthNumberToMonthName\u001b[1;34m(month)\u001b[0m\n\u001b[0;32m      2\u001b[0m \u001b[1;33m\u001b[0m\u001b[0m\n\u001b[0;32m      3\u001b[0m \u001b[1;32mdef\u001b[0m \u001b[0mMonthNumberToMonthName\u001b[0m\u001b[1;33m(\u001b[0m\u001b[0mmonth\u001b[0m\u001b[1;33m)\u001b[0m\u001b[1;33m:\u001b[0m\u001b[1;33m\u001b[0m\u001b[1;33m\u001b[0m\u001b[0m\n\u001b[1;32m----> 4\u001b[1;33m     \u001b[0mdate\u001b[0m \u001b[1;33m=\u001b[0m \u001b[0mdatetime\u001b[0m\u001b[1;33m.\u001b[0m\u001b[0mdate\u001b[0m\u001b[1;33m(\u001b[0m\u001b[1;36m2000\u001b[0m\u001b[1;33m,\u001b[0m \u001b[0mmonth\u001b[0m\u001b[1;33m,\u001b[0m \u001b[1;36m1\u001b[0m\u001b[1;33m)\u001b[0m  \u001b[1;31m#年と日は自由に設定する\u001b[0m\u001b[1;33m\u001b[0m\u001b[1;33m\u001b[0m\u001b[0m\n\u001b[0m\u001b[0;32m      5\u001b[0m     \u001b[1;32mreturn\u001b[0m \u001b[0mdate\u001b[0m\u001b[1;33m.\u001b[0m\u001b[0mstrftime\u001b[0m\u001b[1;33m(\u001b[0m\u001b[1;34m\"%B\"\u001b[0m\u001b[1;33m)\u001b[0m\u001b[1;33m\u001b[0m\u001b[1;33m\u001b[0m\u001b[0m\n\u001b[0;32m      6\u001b[0m \u001b[1;33m\u001b[0m\u001b[0m\n",
      "\u001b[1;31mValueError\u001b[0m: month must be in 1..12"
     ]
    }
   ],
   "source": [
    "import datetime\n",
    "\n",
    "def MonthNumberToMonthName(month):\n",
    "    date = datetime.date(2000, month, 1)  #年と日は自由に設定する\n",
    "    return date.strftime(\"%B\")\n",
    "\n",
    "# １月から１２月まで表示\n",
    "for month_number in range(12):\n",
    "    month_name = MonthNumberToMonthName(month_number)\n",
    "    print(month_name)"
   ]
  },
  {
   "cell_type": "code",
   "execution_count": null,
   "metadata": {},
   "outputs": [],
   "source": []
  }
 ],
 "metadata": {
  "kernelspec": {
   "display_name": "Python 3",
   "language": "python",
   "name": "python3"
  },
  "language_info": {
   "codemirror_mode": {
    "name": "ipython",
    "version": 3
   },
   "file_extension": ".py",
   "mimetype": "text/x-python",
   "name": "python",
   "nbconvert_exporter": "python",
   "pygments_lexer": "ipython3",
   "version": "3.8.8"
  }
 },
 "nbformat": 4,
 "nbformat_minor": 4
}
