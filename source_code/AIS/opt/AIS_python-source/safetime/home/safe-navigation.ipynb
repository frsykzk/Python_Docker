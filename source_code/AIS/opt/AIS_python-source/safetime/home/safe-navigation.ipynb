{
 "cells": [
  {
   "cell_type": "markdown",
   "id": "f303170b-311c-4cc1-b75c-c1c2b47ca7a0",
   "metadata": {},
   "source": [
    "必要なデータを抽出"
   ]
  },
  {
   "cell_type": "code",
   "execution_count": null,
   "id": "5d55b1a3-bdeb-4fc8-95ae-a804bb0912bf",
   "metadata": {},
   "outputs": [],
   "source": [
    "import pandas as pd\n",
    "import glob\n",
    "import numpy as np"
   ]
  },
  {
   "cell_type": "code",
   "execution_count": null,
   "id": "8e728eee-d776-4265-999a-f99caec08c6b",
   "metadata": {},
   "outputs": [],
   "source": [
    "path = \"D:/AIS/ship_type/Osaka-Container\""
   ]
  },
  {
   "cell_type": "code",
   "execution_count": null,
   "id": "d75f5590-afb3-4196-b992-4d76b85a6c49",
   "metadata": {},
   "outputs": [],
   "source": [
    "allfile = glob.glob(path+ \"/*.csv\")\n",
    "print(len(allfile))\n",
    "#allfile"
   ]
  },
  {
   "cell_type": "code",
   "execution_count": null,
   "id": "438db227-76a4-4ac0-b0b8-73230820c7a8",
   "metadata": {},
   "outputs": [],
   "source": [
    "path = \"D:/AIS/ship_type/Osaka-Container\"\n",
    "allfiles = glob.glob(path + \"/*.csv\") \n",
    "frame = pd.DataFrame()\n",
    "list_ = []\n",
    "for file_ in allfiles:\n",
    "    DF = pd.read_csv(file_,encoding='UTF-8',usecols=[\"mmsi\",\"imo\",\"vessel_name\",\"length\",\"width\",\n",
    "                             \"flag_country\",\"destination\",\"eta\",\n",
    "                             \"draught\",\"from_longitude\",\"from_latitude\",\n",
    "                             \"longitude\",\"latitude\",\"draught\",\n",
    "                             \"sog\",\"cog\",\"rot\",\"heading\",\n",
    "                             \"ts_pos_utc\",\"ts_static_utc\",\"dt_pos_utc\",\"dt_static_utc\",\n",
    "                             \"eeid\",\"dtg\"]) \n",
    "    DF['longitude'] = pd.to_numeric(DF['longitude'],errors='coerce')\n",
    "    DF['latitude'] = pd.to_numeric(DF['latitude'],errors='coerce')\n",
    "    list_.append(DF)\n",
    "frame = pd.concat(list_, join='inner')\n",
    "print(frame)\n",
    "\n",
    "frame[\"dtg\"] = pd.to_datetime(frame[\"dtg\"],format=\"%Y-%m-%dT%H:%M:%S\")\n",
    "print(frame)\n",
    "print(frame.info())"
   ]
  },
  {
   "cell_type": "code",
   "execution_count": null,
   "id": "a6f5da96-695f-4fc9-acdb-ef544ea29808",
   "metadata": {},
   "outputs": [],
   "source": [
    "print(len(frame[\"mmsi\"].unique()))"
   ]
  },
  {
   "cell_type": "markdown",
   "id": "e9789214-e08c-4e95-9fb8-81cbafd01b83",
   "metadata": {},
   "source": [
    "sogの単位はkt"
   ]
  },
  {
   "cell_type": "code",
   "execution_count": null,
   "id": "2602b62f-7034-415f-b875-851baa37c1ea",
   "metadata": {},
   "outputs": [],
   "source": [
    "frame[\"Fr\"] = 0.514444*frame[\"sog\"]/np.sqrt(9.80665*frame[\"length\"])\n",
    "frame.Fr = frame.Fr.replace(np.inf,np.nan)\n",
    "frame"
   ]
  },
  {
   "cell_type": "code",
   "execution_count": null,
   "id": "b09a0c3e-b6ba-411e-a39c-055a26f8ddc5",
   "metadata": {},
   "outputs": [],
   "source": [
    "frame[frame.length==0]"
   ]
  },
  {
   "cell_type": "code",
   "execution_count": null,
   "id": "482a2779-8267-4507-a6e3-4296801fe437",
   "metadata": {},
   "outputs": [],
   "source": [
    "frame.sog.describe()"
   ]
  },
  {
   "cell_type": "code",
   "execution_count": null,
   "id": "d1d4dfba-2d71-4732-8e21-65d78631a919",
   "metadata": {},
   "outputs": [],
   "source": [
    "frame.to_csv(\"D:/AIS/AIS-Container_Data2.csv\",index=False)"
   ]
  },
  {
   "cell_type": "code",
   "execution_count": null,
   "id": "84ecf55f-8c13-4513-bdcb-49d750c7dca4",
   "metadata": {},
   "outputs": [],
   "source": []
  }
 ],
 "metadata": {
  "kernelspec": {
   "display_name": "Python 3.8.10 ('base')",
   "language": "python",
   "name": "python3"
  },
  "language_info": {
   "codemirror_mode": {
    "name": "ipython",
    "version": 3
   },
   "file_extension": ".py",
   "mimetype": "text/x-python",
   "name": "python",
   "nbconvert_exporter": "python",
   "pygments_lexer": "ipython3",
   "version": "3.8.10"
  },
  "vscode": {
   "interpreter": {
    "hash": "d4d1e4263499bec80672ea0156c357c1ee493ec2b1c70f0acce89fc37c4a6abe"
   }
  }
 },
 "nbformat": 4,
 "nbformat_minor": 5
}
